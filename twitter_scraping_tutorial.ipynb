{
 "cells": [
  {
   "cell_type": "code",
   "execution_count": 1,
   "id": "60379c2e-ced9-47da-9c33-08529bae7af6",
   "metadata": {},
   "outputs": [
    {
     "name": "stdout",
     "output_type": "stream",
     "text": [
      "Requirement already satisfied: ntscraper in c:\\programdata\\anaconda3\\lib\\site-packages (0.3.11)\n",
      "Requirement already satisfied: beautifulsoup4 in c:\\programdata\\anaconda3\\lib\\site-packages (from ntscraper) (4.9.3)\n",
      "Requirement already satisfied: lxml in c:\\programdata\\anaconda3\\lib\\site-packages (from ntscraper) (4.6.3)\n",
      "Requirement already satisfied: requests in c:\\programdata\\anaconda3\\lib\\site-packages (from ntscraper) (2.25.1)\n",
      "Requirement already satisfied: soupsieve>1.2 in c:\\programdata\\anaconda3\\lib\\site-packages (from beautifulsoup4->ntscraper) (2.2.1)\n",
      "Requirement already satisfied: idna<3,>=2.5 in c:\\programdata\\anaconda3\\lib\\site-packages (from requests->ntscraper) (2.10)\n",
      "Requirement already satisfied: certifi>=2017.4.17 in c:\\programdata\\anaconda3\\lib\\site-packages (from requests->ntscraper) (2020.12.5)\n",
      "Requirement already satisfied: chardet<5,>=3.0.2 in c:\\programdata\\anaconda3\\lib\\site-packages (from requests->ntscraper) (4.0.0)\n",
      "Requirement already satisfied: urllib3<1.27,>=1.21.1 in c:\\programdata\\anaconda3\\lib\\site-packages (from requests->ntscraper) (1.26.4)\n",
      "Note: you may need to restart the kernel to use updated packages.\n"
     ]
    }
   ],
   "source": [
    "pip install ntscraper"
   ]
  },
  {
   "cell_type": "code",
   "execution_count": 2,
   "id": "9c9b7597-7bc3-4b68-a85e-d6aed4f351fb",
   "metadata": {},
   "outputs": [],
   "source": [
    "from ntscraper import Nitter"
   ]
  },
  {
   "cell_type": "code",
   "execution_count": 3,
   "id": "be715eee-11b2-46b5-ba7d-02fc0bfdd64b",
   "metadata": {},
   "outputs": [
    {
     "name": "stderr",
     "output_type": "stream",
     "text": [
      "Testing instances: 100%|███████████████████████████████████████████████████████████████| 24/24 [01:18<00:00,  3.28s/it]\n"
     ]
    }
   ],
   "source": [
    "scraper = Nitter(log_level = 1,skip_instance_check= False)"
   ]
  },
  {
   "cell_type": "code",
   "execution_count": 4,
   "id": "7204e94c-3645-48a5-a3a9-eea3237736d0",
   "metadata": {},
   "outputs": [
    {
     "name": "stdout",
     "output_type": "stream",
     "text": [
      "10-Feb-24 11:33:27 - No instance specified, using random instance https://nitter.privacydev.net\n",
      "10-Feb-24 11:33:38 - https://nitter.privacydev.net unreachable. Trying https://nitter.mint.lgbt\n",
      "10-Feb-24 11:33:46 - Current stats for elonmusk: 10 tweets, 0 threads...\n"
     ]
    }
   ],
   "source": [
    "tweets = scraper.get_tweets(\"elonmusk\",mode=\"user\",number=10)"
   ]
  },
  {
   "cell_type": "code",
   "execution_count": 6,
   "id": "874c2d74-c6c5-4fb1-b965-907760afb019",
   "metadata": {},
   "outputs": [],
   "source": [
    "from pprint import pprint\n"
   ]
  },
  {
   "cell_type": "code",
   "execution_count": 7,
   "id": "791dac48-6a00-4684-8bec-b46a45f232a3",
   "metadata": {},
   "outputs": [
    {
     "name": "stdout",
     "output_type": "stream",
     "text": [
      "{'threads': [],\n",
      " 'tweets': [{'date': 'Feb 9, 2024 · 7:11 AM UTC',\n",
      "             'external-link': '',\n",
      "             'gifs': [],\n",
      "             'is-pinned': True,\n",
      "             'is-retweet': False,\n",
      "             'link': 'https://twitter.com/elonmusk/status/1755851825054433784#m',\n",
      "             'pictures': [],\n",
      "             'quoted-post': {'date': 'Feb 8, 2024 · 11:25 PM UTC',\n",
      "                             'gifs': [],\n",
      "                             'link': 'https://twitter.com/TuckerCarlson/status/1755734526678925682#m',\n",
      "                             'pictures': [],\n",
      "                             'text': 'Ep. 73  The Vladimir Putin Interview',\n",
      "                             'user': {'avatar': 'https://pbs.twimg.com/profile_images/1666923736132460544/9LWCHVOp_mini.jpg',\n",
      "                                      'name': 'Tucker Carlson',\n",
      "                                      'profile_id': '1666923736132460544',\n",
      "                                      'username': '@TuckerCarlson'},\n",
      "                             'videos': ['https://video.twimg.com/amplify_video/1755644391144685568/pl/lmZoAmGcDcpG_JFw.m3u8?tag=16&container=cmaf&v=c3f']},\n",
      "             'replying-to': [],\n",
      "             'stats': {'comments': 12882,\n",
      "                       'likes': 224781,\n",
      "                       'quotes': 1071,\n",
      "                       'retweets': 32767},\n",
      "             'text': 'Easy to watch any 𝕏 video on your TV by using AirPlay. '\n",
      "                     'Tap the icon on lower right.',\n",
      "             'user': {'avatar': 'https://pbs.twimg.com/profile_images/1683325380441128960/yRsRRjGO_bigger.jpg',\n",
      "                      'name': 'Elon Musk',\n",
      "                      'profile_id': '1683325380441128960',\n",
      "                      'username': '@elonmusk'},\n",
      "             'videos': []},\n",
      "            {'date': 'Feb 10, 2024 · 2:06 AM UTC',\n",
      "             'external-link': '',\n",
      "             'gifs': [],\n",
      "             'is-pinned': False,\n",
      "             'is-retweet': True,\n",
      "             'link': 'https://twitter.com/SpaceX/status/1756137580012388844#m',\n",
      "             'pictures': ['https://pbs.twimg.com/media/GF8NuAKbsAA5VAp.jpg',\n",
      "                          'https://pbs.twimg.com/media/GF8NuAibkAAeAf-.jpg'],\n",
      "             'quoted-post': {},\n",
      "             'replying-to': [],\n",
      "             'stats': {'comments': 677,\n",
      "                       'likes': 9074,\n",
      "                       'quotes': 60,\n",
      "                       'retweets': 979},\n",
      "             'text': 'Deployment of @Starlink satellites confirmed following a '\n",
      "                     'successful liftoff from California’s central coast',\n",
      "             'user': {'avatar': 'https://pbs.twimg.com/profile_images/1697749409851985920/HbrI04tM_bigger.jpg',\n",
      "                      'name': 'SpaceX',\n",
      "                      'profile_id': '1697749409851985920',\n",
      "                      'username': '@SpaceX'},\n",
      "             'videos': []},\n",
      "            {'date': 'Feb 10, 2024 · 2:16 AM UTC',\n",
      "             'external-link': '',\n",
      "             'gifs': [],\n",
      "             'is-pinned': False,\n",
      "             'is-retweet': False,\n",
      "             'link': 'https://twitter.com/elonmusk/status/1756140099555696811#m',\n",
      "             'pictures': [],\n",
      "             'quoted-post': {'date': 'Feb 9, 2024 · 10:00 PM UTC',\n",
      "                             'gifs': [],\n",
      "                             'link': 'https://twitter.com/HawaiianAir/status/1756075520993722496#m',\n",
      "                             'pictures': ['https://pbs.twimg.com/media/GF7VXdQWEAAzix3.jpg',\n",
      "                                          'https://pbs.twimg.com/media/GF7VX2aXgAA3eb9.jpg'],\n",
      "                             'text': '🥁 Drumroll, please… the rollout of '\n",
      "                                     'Starlink internet service on our A321 '\n",
      "                                     'aircraft has commenced. As we work '\n",
      "                                     'quickly to install high-speed Wi-Fi '\n",
      "                                     'across our A321 fleet, guests can begin '\n",
      "                                     'to enjoy free, fast internet on select '\n",
      "                                     'transpacific flights. ✨  '\n",
      "                                     'https://on.hwnair.com/3UB9Ifk.',\n",
      "                             'user': {'avatar': 'https://pbs.twimg.com/profile_images/875825802226487297/x2-iy0ns_mini.jpg',\n",
      "                                      'name': 'Hawaiian Airlines',\n",
      "                                      'profile_id': '875825802226487297',\n",
      "                                      'username': '@HawaiianAir'},\n",
      "                             'videos': []},\n",
      "             'replying-to': [],\n",
      "             'stats': {'comments': 1516,\n",
      "                       'likes': 21347,\n",
      "                       'quotes': 125,\n",
      "                       'retweets': 1699},\n",
      "             'text': 'Hawaiian Airlines now has super fast @Starlink Internet!',\n",
      "             'user': {'avatar': 'https://pbs.twimg.com/profile_images/1683325380441128960/yRsRRjGO_bigger.jpg',\n",
      "                      'name': 'Elon Musk',\n",
      "                      'profile_id': '1683325380441128960',\n",
      "                      'username': '@elonmusk'},\n",
      "             'videos': []},\n",
      "            {'date': 'Feb 9, 2024 · 9:20 PM UTC',\n",
      "             'external-link': '',\n",
      "             'gifs': [],\n",
      "             'is-pinned': False,\n",
      "             'is-retweet': False,\n",
      "             'link': 'https://twitter.com/elonmusk/status/1756065619856752651#m',\n",
      "             'pictures': [],\n",
      "             'quoted-post': {'date': 'Feb 9, 2024 · 8:09 PM UTC',\n",
      "                             'gifs': [],\n",
      "                             'link': 'https://twitter.com/CommunityNotes/status/1756047573679550659#m',\n",
      "                             'pictures': [],\n",
      "                             'text': '✨Note writing limits now consider hit '\n",
      "                                     'rate, a writer’s ratio of helpful to '\n",
      "                                     'total notes written. To write many notes '\n",
      "                                     'in 24h, a writer must have a history of '\n",
      "                                     'helpful notes and a solid hit rate. This '\n",
      "                                     'prevents large volumes of proposed notes '\n",
      "                                     'that aren’t found helpful. Details in '\n",
      "                                     'GitHub: '\n",
      "                                     'https://github.com/twitter/communitynotes/blob/main/documentation/contributing/writing-notes.md',\n",
      "                             'user': {'avatar': 'https://pbs.twimg.com/profile_images/1685001119934607360/Dh2Z7jCt_mini.png',\n",
      "                                      'name': 'Community Notes',\n",
      "                                      'profile_id': '1685001119934607360',\n",
      "                                      'username': '@CommunityNotes'},\n",
      "                             'videos': []},\n",
      "             'replying-to': [],\n",
      "             'stats': {'comments': 1795,\n",
      "                       'likes': 15713,\n",
      "                       'quotes': 87,\n",
      "                       'retweets': 1773},\n",
      "             'text': 'Improvements to Community Notes',\n",
      "             'user': {'avatar': 'https://pbs.twimg.com/profile_images/1683325380441128960/yRsRRjGO_bigger.jpg',\n",
      "                      'name': 'Elon Musk',\n",
      "                      'profile_id': '1683325380441128960',\n",
      "                      'username': '@elonmusk'},\n",
      "             'videos': []},\n",
      "            {'date': 'Feb 9, 2024 · 7:53 PM UTC',\n",
      "             'external-link': '',\n",
      "             'gifs': [],\n",
      "             'is-pinned': False,\n",
      "             'is-retweet': False,\n",
      "             'link': 'https://twitter.com/elonmusk/status/1756043720082763992#m',\n",
      "             'pictures': ['https://pbs.twimg.com/media/GF64dNkWoAANF-k.jpg'],\n",
      "             'quoted-post': {},\n",
      "             'replying-to': [],\n",
      "             'stats': {'comments': 8475,\n",
      "                       'likes': 149280,\n",
      "                       'quotes': 1683,\n",
      "                       'retweets': 17417},\n",
      "             'text': 'The Year of the Dragon',\n",
      "             'user': {'avatar': 'https://pbs.twimg.com/profile_images/1683325380441128960/yRsRRjGO_bigger.jpg',\n",
      "                      'name': 'Elon Musk',\n",
      "                      'profile_id': '1683325380441128960',\n",
      "                      'username': '@elonmusk'},\n",
      "             'videos': []},\n",
      "            {'date': 'Feb 9, 2024 · 7:39 PM UTC',\n",
      "             'external-link': '',\n",
      "             'gifs': [],\n",
      "             'is-pinned': False,\n",
      "             'is-retweet': False,\n",
      "             'link': 'https://twitter.com/elonmusk/status/1756040128236007934#m',\n",
      "             'pictures': ['https://pbs.twimg.com/media/GF61MEtW0AAtNa6.jpg'],\n",
      "             'quoted-post': {},\n",
      "             'replying-to': [],\n",
      "             'stats': {'comments': 16257,\n",
      "                       'likes': 301492,\n",
      "                       'quotes': 1986,\n",
      "                       'retweets': 22147},\n",
      "             'text': 'America, America!',\n",
      "             'user': {'avatar': 'https://pbs.twimg.com/profile_images/1683325380441128960/yRsRRjGO_bigger.jpg',\n",
      "                      'name': 'Elon Musk',\n",
      "                      'profile_id': '1683325380441128960',\n",
      "                      'username': '@elonmusk'},\n",
      "             'videos': []},\n",
      "            {'date': 'Feb 9, 2024 · 5:38 PM UTC',\n",
      "             'external-link': '',\n",
      "             'gifs': [],\n",
      "             'is-pinned': False,\n",
      "             'is-retweet': False,\n",
      "             'link': 'https://twitter.com/elonmusk/status/1756009604822020521#m',\n",
      "             'pictures': [],\n",
      "             'quoted-post': {},\n",
      "             'replying-to': [],\n",
      "             'stats': {'comments': 4859,\n",
      "                       'likes': 68712,\n",
      "                       'quotes': 535,\n",
      "                       'retweets': 6484},\n",
      "             'text': 'This year, the @SpaceX Dragon spaceship will take '\n",
      "                     'astronauts the furthest they’ve been from Earth in over '\n",
      "                     'half a century',\n",
      "             'user': {'avatar': 'https://pbs.twimg.com/profile_images/1683325380441128960/yRsRRjGO_bigger.jpg',\n",
      "                      'name': 'Elon Musk',\n",
      "                      'profile_id': '1683325380441128960',\n",
      "                      'username': '@elonmusk'},\n",
      "             'videos': []},\n",
      "            {'date': 'Feb 9, 2024 · 5:05 PM UTC',\n",
      "             'external-link': '',\n",
      "             'gifs': [],\n",
      "             'is-pinned': False,\n",
      "             'is-retweet': False,\n",
      "             'link': 'https://twitter.com/elonmusk/status/1756001480211873979#m',\n",
      "             'pictures': [],\n",
      "             'quoted-post': {'date': 'Feb 9, 2024 · 7:11 AM UTC',\n",
      "                             'gifs': [],\n",
      "                             'link': 'https://twitter.com/elonmusk/status/1755851825054433784#m',\n",
      "                             'pictures': [],\n",
      "                             'text': 'Easy to watch any 𝕏 video on your TV by '\n",
      "                                     'using AirPlay. Tap the icon on lower '\n",
      "                                     'right.',\n",
      "                             'user': {'avatar': 'https://pbs.twimg.com/profile_images/1683325380441128960/yRsRRjGO_mini.jpg',\n",
      "                                      'name': 'Elon Musk',\n",
      "                                      'profile_id': '1683325380441128960',\n",
      "                                      'username': '@elonmusk'},\n",
      "                             'videos': []},\n",
      "             'replying-to': [],\n",
      "             'stats': {'comments': 2273,\n",
      "                       'likes': 22414,\n",
      "                       'quotes': 103,\n",
      "                       'retweets': 2602},\n",
      "             'text': 'To keep scrolling 𝕏 while using AirPlay, turn off '\n",
      "                     'autoplay for videos',\n",
      "             'user': {'avatar': 'https://pbs.twimg.com/profile_images/1683325380441128960/yRsRRjGO_bigger.jpg',\n",
      "                      'name': 'Elon Musk',\n",
      "                      'profile_id': '1683325380441128960',\n",
      "                      'username': '@elonmusk'},\n",
      "             'videos': []},\n",
      "            {'date': 'Feb 9, 2024 · 8:26 AM UTC',\n",
      "             'external-link': '',\n",
      "             'gifs': [],\n",
      "             'is-pinned': False,\n",
      "             'is-retweet': False,\n",
      "             'link': 'https://twitter.com/elonmusk/status/1755870691159626094#m',\n",
      "             'pictures': [],\n",
      "             'quoted-post': {},\n",
      "             'replying-to': [],\n",
      "             'stats': {'comments': 22757,\n",
      "                       'likes': 228492,\n",
      "                       'quotes': 4159,\n",
      "                       'retweets': 21412},\n",
      "             'text': 'In a few months, I will discontinue my phone number and '\n",
      "                     'only use X for texts and audio/video calls',\n",
      "             'user': {'avatar': 'https://pbs.twimg.com/profile_images/1683325380441128960/yRsRRjGO_bigger.jpg',\n",
      "                      'name': 'Elon Musk',\n",
      "                      'profile_id': '1683325380441128960',\n",
      "                      'username': '@elonmusk'},\n",
      "             'videos': []},\n",
      "            {'date': 'Feb 9, 2024 · 8:21 AM UTC',\n",
      "             'external-link': '',\n",
      "             'gifs': [],\n",
      "             'is-pinned': False,\n",
      "             'is-retweet': False,\n",
      "             'link': 'https://twitter.com/elonmusk/status/1755869551034544616#m',\n",
      "             'pictures': [],\n",
      "             'quoted-post': {'date': 'Feb 8, 2024 · 4:00 PM UTC',\n",
      "                             'gifs': [],\n",
      "                             'link': 'https://twitter.com/cb_doge/status/1755622562678149409#m',\n",
      "                             'pictures': ['https://pbs.twimg.com/media/GF02_lrW8AAETAk.jpg'],\n",
      "                             'text': 'BREAKING: Mainstream media is dying. 🔻',\n",
      "                             'user': {'avatar': 'https://pbs.twimg.com/profile_images/1498070100393754625/C2V-fbll_mini.jpg',\n",
      "                                      'name': 'DogeDesigner',\n",
      "                                      'profile_id': '1498070100393754625',\n",
      "                                      'username': '@cb_doge'},\n",
      "                             'videos': []},\n",
      "             'replying-to': [],\n",
      "             'stats': {'comments': 7790,\n",
      "                       'likes': 165617,\n",
      "                       'quotes': 1153,\n",
      "                       'retweets': 24480},\n",
      "             'text': '\\U0001fae1',\n",
      "             'user': {'avatar': 'https://pbs.twimg.com/profile_images/1683325380441128960/yRsRRjGO_bigger.jpg',\n",
      "                      'name': 'Elon Musk',\n",
      "                      'profile_id': '1683325380441128960',\n",
      "                      'username': '@elonmusk'},\n",
      "             'videos': []}]}\n"
     ]
    }
   ],
   "source": [
    "pprint(tweets)"
   ]
  },
  {
   "cell_type": "code",
   "execution_count": 8,
   "id": "b98fc2a5-f24c-4086-907e-886d33d26d1d",
   "metadata": {},
   "outputs": [
    {
     "data": {
      "text/plain": [
       "dict_keys(['tweets', 'threads'])"
      ]
     },
     "execution_count": 8,
     "metadata": {},
     "output_type": "execute_result"
    }
   ],
   "source": [
    "tweets.keys()"
   ]
  },
  {
   "cell_type": "code",
   "execution_count": 9,
   "id": "cd637d45-40f6-40b0-bfa9-b3d13d3eca2d",
   "metadata": {},
   "outputs": [
    {
     "data": {
      "text/plain": [
       "{'link': 'https://twitter.com/elonmusk/status/1755851825054433784#m',\n",
       " 'text': 'Easy to watch any 𝕏 video on your TV by using AirPlay. Tap the icon on lower right.',\n",
       " 'user': {'name': 'Elon Musk',\n",
       "  'username': '@elonmusk',\n",
       "  'profile_id': '1683325380441128960',\n",
       "  'avatar': 'https://pbs.twimg.com/profile_images/1683325380441128960/yRsRRjGO_bigger.jpg'},\n",
       " 'date': 'Feb 9, 2024 · 7:11 AM UTC',\n",
       " 'is-retweet': False,\n",
       " 'is-pinned': True,\n",
       " 'external-link': '',\n",
       " 'replying-to': [],\n",
       " 'quoted-post': {'link': 'https://twitter.com/TuckerCarlson/status/1755734526678925682#m',\n",
       "  'text': 'Ep. 73  The Vladimir Putin Interview',\n",
       "  'user': {'name': 'Tucker Carlson',\n",
       "   'username': '@TuckerCarlson',\n",
       "   'profile_id': '1666923736132460544',\n",
       "   'avatar': 'https://pbs.twimg.com/profile_images/1666923736132460544/9LWCHVOp_mini.jpg'},\n",
       "  'date': 'Feb 8, 2024 · 11:25 PM UTC',\n",
       "  'pictures': [],\n",
       "  'videos': ['https://video.twimg.com/amplify_video/1755644391144685568/pl/lmZoAmGcDcpG_JFw.m3u8?tag=16&container=cmaf&v=c3f'],\n",
       "  'gifs': []},\n",
       " 'stats': {'comments': 12882,\n",
       "  'retweets': 32767,\n",
       "  'quotes': 1071,\n",
       "  'likes': 224781},\n",
       " 'pictures': [],\n",
       " 'videos': [],\n",
       " 'gifs': []}"
      ]
     },
     "execution_count": 9,
     "metadata": {},
     "output_type": "execute_result"
    }
   ],
   "source": [
    "tweets['tweets'][0]"
   ]
  },
  {
   "cell_type": "code",
   "execution_count": 10,
   "id": "78432641-60d2-459a-bd5d-b55cca8739f0",
   "metadata": {},
   "outputs": [
    {
     "name": "stdout",
     "output_type": "stream",
     "text": [
      "10-Feb-24 11:39:42 - No instance specified, using random instance https://nitter.privacydev.net\n"
     ]
    }
   ],
   "source": [
    "elon_info = scraper.get_profile_info(username=\"elonmusk\")"
   ]
  },
  {
   "cell_type": "code",
   "execution_count": 12,
   "id": "10ac2b57-a588-4e47-a79e-fb8b53ea2d1d",
   "metadata": {},
   "outputs": [
    {
     "name": "stdout",
     "output_type": "stream",
     "text": [
      "{'bio': '',\n",
      " 'id': '44196397',\n",
      " 'image': 'https://pbs.twimg.com/profile_images/1683325380441128960/yRsRRjGO_400x400.jpg',\n",
      " 'joined': '8:12 PM - 2 Jun 2009',\n",
      " 'location': '',\n",
      " 'name': 'Elon Musk',\n",
      " 'stats': {'followers': 172044929,\n",
      "           'following': 536,\n",
      "           'likes': 42020,\n",
      "           'media': 0,\n",
      "           'tweets': 37679},\n",
      " 'username': '@elonmusk',\n",
      " 'website': ''}\n"
     ]
    }
   ],
   "source": [
    "pprint(elon_info)"
   ]
  },
  {
   "cell_type": "code",
   "execution_count": 13,
   "id": "c54ebbc1-0b25-4d69-8ccd-8354d55c62ea",
   "metadata": {},
   "outputs": [],
   "source": [
    "data = {\n",
    "    'link':[],\n",
    "    'text':[],\n",
    "    'user':[],\n",
    "    'likes':[],\n",
    "    'quotes':[],\n",
    "    'retweets':[],\n",
    "    'comments':[]\n",
    "}\n",
    "\n",
    "for tweet in tweets['tweets']:\n",
    "    data['link'].append(tweet['link'])\n",
    "    data['text'].append(tweet['text'])\n",
    "    data['user'].append(tweet['user']['name'])\n",
    "    data['likes'].append(tweet['stats']['likes'])\n",
    "    data['quotes'].append(tweet['stats']['quotes'])    \n",
    "    data['retweets'].append(tweet['stats']['retweets'])    \n",
    "    data['comments'].append(tweet['stats']['comments'])    "
   ]
  },
  {
   "cell_type": "code",
   "execution_count": 14,
   "id": "01fc532c-a188-4c00-9409-e512ca642cd4",
   "metadata": {},
   "outputs": [
    {
     "data": {
      "text/plain": [
       "{'link': ['https://twitter.com/elonmusk/status/1755851825054433784#m',\n",
       "  'https://twitter.com/SpaceX/status/1756137580012388844#m',\n",
       "  'https://twitter.com/elonmusk/status/1756140099555696811#m',\n",
       "  'https://twitter.com/elonmusk/status/1756065619856752651#m',\n",
       "  'https://twitter.com/elonmusk/status/1756043720082763992#m',\n",
       "  'https://twitter.com/elonmusk/status/1756040128236007934#m',\n",
       "  'https://twitter.com/elonmusk/status/1756009604822020521#m',\n",
       "  'https://twitter.com/elonmusk/status/1756001480211873979#m',\n",
       "  'https://twitter.com/elonmusk/status/1755870691159626094#m',\n",
       "  'https://twitter.com/elonmusk/status/1755869551034544616#m'],\n",
       " 'text': ['Easy to watch any 𝕏 video on your TV by using AirPlay. Tap the icon on lower right.',\n",
       "  'Deployment of @Starlink satellites confirmed following a successful liftoff from California’s central coast',\n",
       "  'Hawaiian Airlines now has super fast @Starlink Internet!',\n",
       "  'Improvements to Community Notes',\n",
       "  'The Year of the Dragon',\n",
       "  'America, America!',\n",
       "  'This year, the @SpaceX Dragon spaceship will take astronauts the furthest they’ve been from Earth in over half a century',\n",
       "  'To keep scrolling 𝕏 while using AirPlay, turn off autoplay for videos',\n",
       "  'In a few months, I will discontinue my phone number and only use X for texts and audio/video calls',\n",
       "  '\\U0001fae1'],\n",
       " 'user': ['Elon Musk',\n",
       "  'SpaceX',\n",
       "  'Elon Musk',\n",
       "  'Elon Musk',\n",
       "  'Elon Musk',\n",
       "  'Elon Musk',\n",
       "  'Elon Musk',\n",
       "  'Elon Musk',\n",
       "  'Elon Musk',\n",
       "  'Elon Musk'],\n",
       " 'likes': [224781,\n",
       "  9074,\n",
       "  21347,\n",
       "  15713,\n",
       "  149280,\n",
       "  301492,\n",
       "  68712,\n",
       "  22414,\n",
       "  228492,\n",
       "  165617],\n",
       " 'quotes': [1071, 60, 125, 87, 1683, 1986, 535, 103, 4159, 1153],\n",
       " 'retweets': [32767, 979, 1699, 1773, 17417, 22147, 6484, 2602, 21412, 24480],\n",
       " 'comments': [12882, 677, 1516, 1795, 8475, 16257, 4859, 2273, 22757, 7790]}"
      ]
     },
     "execution_count": 14,
     "metadata": {},
     "output_type": "execute_result"
    }
   ],
   "source": [
    "data"
   ]
  },
  {
   "cell_type": "code",
   "execution_count": 15,
   "id": "7dd106ca-85cd-4348-926d-872ef98d07be",
   "metadata": {},
   "outputs": [
    {
     "data": {
      "text/html": [
       "<div>\n",
       "<style scoped>\n",
       "    .dataframe tbody tr th:only-of-type {\n",
       "        vertical-align: middle;\n",
       "    }\n",
       "\n",
       "    .dataframe tbody tr th {\n",
       "        vertical-align: top;\n",
       "    }\n",
       "\n",
       "    .dataframe thead th {\n",
       "        text-align: right;\n",
       "    }\n",
       "</style>\n",
       "<table border=\"1\" class=\"dataframe\">\n",
       "  <thead>\n",
       "    <tr style=\"text-align: right;\">\n",
       "      <th></th>\n",
       "      <th>link</th>\n",
       "      <th>text</th>\n",
       "      <th>user</th>\n",
       "      <th>likes</th>\n",
       "      <th>quotes</th>\n",
       "      <th>retweets</th>\n",
       "      <th>comments</th>\n",
       "    </tr>\n",
       "  </thead>\n",
       "  <tbody>\n",
       "    <tr>\n",
       "      <th>0</th>\n",
       "      <td>https://twitter.com/elonmusk/status/1755851825...</td>\n",
       "      <td>Easy to watch any 𝕏 video on your TV by using ...</td>\n",
       "      <td>Elon Musk</td>\n",
       "      <td>224781</td>\n",
       "      <td>1071</td>\n",
       "      <td>32767</td>\n",
       "      <td>12882</td>\n",
       "    </tr>\n",
       "    <tr>\n",
       "      <th>1</th>\n",
       "      <td>https://twitter.com/SpaceX/status/175613758001...</td>\n",
       "      <td>Deployment of @Starlink satellites confirmed f...</td>\n",
       "      <td>SpaceX</td>\n",
       "      <td>9074</td>\n",
       "      <td>60</td>\n",
       "      <td>979</td>\n",
       "      <td>677</td>\n",
       "    </tr>\n",
       "    <tr>\n",
       "      <th>2</th>\n",
       "      <td>https://twitter.com/elonmusk/status/1756140099...</td>\n",
       "      <td>Hawaiian Airlines now has super fast @Starlink...</td>\n",
       "      <td>Elon Musk</td>\n",
       "      <td>21347</td>\n",
       "      <td>125</td>\n",
       "      <td>1699</td>\n",
       "      <td>1516</td>\n",
       "    </tr>\n",
       "    <tr>\n",
       "      <th>3</th>\n",
       "      <td>https://twitter.com/elonmusk/status/1756065619...</td>\n",
       "      <td>Improvements to Community Notes</td>\n",
       "      <td>Elon Musk</td>\n",
       "      <td>15713</td>\n",
       "      <td>87</td>\n",
       "      <td>1773</td>\n",
       "      <td>1795</td>\n",
       "    </tr>\n",
       "    <tr>\n",
       "      <th>4</th>\n",
       "      <td>https://twitter.com/elonmusk/status/1756043720...</td>\n",
       "      <td>The Year of the Dragon</td>\n",
       "      <td>Elon Musk</td>\n",
       "      <td>149280</td>\n",
       "      <td>1683</td>\n",
       "      <td>17417</td>\n",
       "      <td>8475</td>\n",
       "    </tr>\n",
       "  </tbody>\n",
       "</table>\n",
       "</div>"
      ],
      "text/plain": [
       "                                                link  \\\n",
       "0  https://twitter.com/elonmusk/status/1755851825...   \n",
       "1  https://twitter.com/SpaceX/status/175613758001...   \n",
       "2  https://twitter.com/elonmusk/status/1756140099...   \n",
       "3  https://twitter.com/elonmusk/status/1756065619...   \n",
       "4  https://twitter.com/elonmusk/status/1756043720...   \n",
       "\n",
       "                                                text       user   likes  \\\n",
       "0  Easy to watch any 𝕏 video on your TV by using ...  Elon Musk  224781   \n",
       "1  Deployment of @Starlink satellites confirmed f...     SpaceX    9074   \n",
       "2  Hawaiian Airlines now has super fast @Starlink...  Elon Musk   21347   \n",
       "3                    Improvements to Community Notes  Elon Musk   15713   \n",
       "4                             The Year of the Dragon  Elon Musk  149280   \n",
       "\n",
       "   quotes  retweets  comments  \n",
       "0    1071     32767     12882  \n",
       "1      60       979       677  \n",
       "2     125      1699      1516  \n",
       "3      87      1773      1795  \n",
       "4    1683     17417      8475  "
      ]
     },
     "execution_count": 15,
     "metadata": {},
     "output_type": "execute_result"
    }
   ],
   "source": [
    "import pandas as pd\n",
    "df = pd.DataFrame(data)\n",
    "df.head()"
   ]
  },
  {
   "cell_type": "code",
   "execution_count": 16,
   "id": "ebe9ff7d-f42e-4ff6-b615-1a5a09e052a0",
   "metadata": {},
   "outputs": [],
   "source": [
    "df.to_csv(\"Elon_data.csv\")"
   ]
  },
  {
   "cell_type": "code",
   "execution_count": 17,
   "id": "6f92bcb8-6cee-481e-b002-caab9e3cc367",
   "metadata": {},
   "outputs": [],
   "source": [
    "import pandas as pd\n",
    "scraper = Nitter()\n",
    "def create_tweets_dataset(username,no_of_tweets):\n",
    "    tweets = scraper.get_tweets(username,mode=\"user\",number=no_of_tweets)\n",
    "    data = {\n",
    "        'link':[],\n",
    "        'text':[],\n",
    "        'user':[],\n",
    "        'likes':[],\n",
    "        'quotes':[],\n",
    "        'retweets':[],\n",
    "        'comments':[]\n",
    "    }\n",
    "\n",
    "    for tweet in tweets['tweets']:\n",
    "        data['link'].append(tweet['link'])\n",
    "        data['text'].append(tweet['text'])\n",
    "        data['user'].append(tweet['user']['name'])\n",
    "        data['likes'].append(tweet['stats']['likes'])\n",
    "        data['quotes'].append(tweet['stats']['quotes'])    \n",
    "        data['retweets'].append(tweet['stats']['retweets'])    \n",
    "        data['comments'].append(tweet['stats']['comments'])    \n",
    "    df = pd.DataFrame(data)\n",
    "    df.to_csv(username+\"_tweets_data.csv\")"
   ]
  },
  {
   "cell_type": "code",
   "execution_count": 18,
   "id": "ba7a4a96-688b-4404-9b14-fbc9def7dc9c",
   "metadata": {},
   "outputs": [
    {
     "name": "stderr",
     "output_type": "stream",
     "text": [
      "Testing instances: 100%|███████████████████████████████████████████████████████████████| 24/24 [01:09<00:00,  2.89s/it]"
     ]
    },
    {
     "name": "stdout",
     "output_type": "stream",
     "text": [
      "10-Feb-24 11:54:14 - No instance specified, using random instance https://n.opnxng.com\n"
     ]
    },
    {
     "name": "stderr",
     "output_type": "stream",
     "text": [
      "\n"
     ]
    },
    {
     "name": "stdout",
     "output_type": "stream",
     "text": [
      "10-Feb-24 11:54:25 - Current stats for MrBeast: 16 tweets, 0 threads...\n",
      "10-Feb-24 11:54:34 - Current stats for MrBeast: 27 tweets, 0 threads...\n",
      "10-Feb-24 11:54:42 - Current stats for MrBeast: 41 tweets, 0 threads...\n",
      "10-Feb-24 11:54:48 - Current stats for MrBeast: 57 tweets, 0 threads...\n",
      "10-Feb-24 11:54:57 - Current stats for MrBeast: 71 tweets, 0 threads...\n",
      "10-Feb-24 11:55:05 - Current stats for MrBeast: 81 tweets, 0 threads...\n",
      "10-Feb-24 11:55:13 - Current stats for MrBeast: 92 tweets, 0 threads...\n",
      "10-Feb-24 11:55:21 - Current stats for MrBeast: 100 tweets, 0 threads...\n"
     ]
    }
   ],
   "source": [
    "create_tweets_dataset(\"MrBeast\",100)"
   ]
  },
  {
   "cell_type": "code",
   "execution_count": null,
   "id": "31c7b85f-3ad8-491b-b212-75f35be3531b",
   "metadata": {},
   "outputs": [],
   "source": []
  },
  {
   "cell_type": "code",
   "execution_count": null,
   "id": "ea15949f-3053-40bc-b668-640c215be0de",
   "metadata": {},
   "outputs": [],
   "source": []
  }
 ],
 "metadata": {
  "kernelspec": {
   "display_name": "Python 3",
   "language": "python",
   "name": "python3"
  },
  "language_info": {
   "codemirror_mode": {
    "name": "ipython",
    "version": 3
   },
   "file_extension": ".py",
   "mimetype": "text/x-python",
   "name": "python",
   "nbconvert_exporter": "python",
   "pygments_lexer": "ipython3",
   "version": "3.8.8"
  }
 },
 "nbformat": 4,
 "nbformat_minor": 5
}
